{
  "nbformat": 4,
  "nbformat_minor": 0,
  "metadata": {
    "colab": {
      "name": "Translator.ipynb",
      "provenance": [],
      "collapsed_sections": [],
      "authorship_tag": "ABX9TyMvj59CYXi1lvywW1EPI1ss",
      "include_colab_link": true
    },
    "kernelspec": {
      "name": "python3",
      "display_name": "Python 3"
    },
    "language_info": {
      "name": "python"
    }
  },
  "cells": [
    {
      "cell_type": "markdown",
      "metadata": {
        "id": "view-in-github",
        "colab_type": "text"
      },
      "source": [
        "<a href=\"https://colab.research.google.com/github/MashaJing/TranslationHelper/blob/main/Translator.ipynb\" target=\"_parent\"><img src=\"https://colab.research.google.com/assets/colab-badge.svg\" alt=\"Open In Colab\"/></a>"
      ]
    },
    {
      "cell_type": "code",
      "metadata": {
        "colab": {
          "base_uri": "https://localhost:8080/"
        },
        "id": "astHduJm9hPy",
        "outputId": "a82233e9-072e-495d-fc3a-618fc0b2474a"
      },
      "source": [
        "!pip install python-docx"
      ],
      "execution_count": null,
      "outputs": [
        {
          "output_type": "stream",
          "name": "stdout",
          "text": [
            "Collecting python-docx\n",
            "  Downloading python-docx-0.8.11.tar.gz (5.6 MB)\n",
            "\u001b[K     |████████████████████████████████| 5.6 MB 26.5 MB/s \n",
            "\u001b[?25hRequirement already satisfied: lxml>=2.3.2 in /usr/local/lib/python3.7/dist-packages (from python-docx) (4.2.6)\n",
            "Building wheels for collected packages: python-docx\n",
            "  Building wheel for python-docx (setup.py) ... \u001b[?25l\u001b[?25hdone\n",
            "  Created wheel for python-docx: filename=python_docx-0.8.11-py3-none-any.whl size=184508 sha256=3b7bc204bf5ab0a092a848eb6d0827519a392af967ba6d7e2d150baa281083ce\n",
            "  Stored in directory: /root/.cache/pip/wheels/f6/6f/b9/d798122a8b55b74ad30b5f52b01482169b445fbb84a11797a6\n",
            "Successfully built python-docx\n",
            "Installing collected packages: python-docx\n",
            "Successfully installed python-docx-0.8.11\n"
          ]
        }
      ]
    },
    {
      "cell_type": "code",
      "metadata": {
        "colab": {
          "base_uri": "https://localhost:8080/"
        },
        "id": "INw58dn9JBHk",
        "outputId": "bae3c554-db57-42f4-db72-cc951b2aebe3"
      },
      "source": [
        "!pip install deep-translator"
      ],
      "execution_count": null,
      "outputs": [
        {
          "output_type": "stream",
          "name": "stdout",
          "text": [
            "Collecting deep-translator\n",
            "  Downloading deep_translator-1.5.4-py3-none-any.whl (29 kB)\n",
            "Collecting click<9.0.0,>=8.0.1\n",
            "  Downloading click-8.0.3-py3-none-any.whl (97 kB)\n",
            "\u001b[?25l\r\u001b[K     |███▍                            | 10 kB 30.2 MB/s eta 0:00:01\r\u001b[K     |██████▊                         | 20 kB 37.5 MB/s eta 0:00:01\r\u001b[K     |██████████                      | 30 kB 43.5 MB/s eta 0:00:01\r\u001b[K     |█████████████▍                  | 40 kB 47.5 MB/s eta 0:00:01\r\u001b[K     |████████████████▉               | 51 kB 52.1 MB/s eta 0:00:01\r\u001b[K     |████████████████████▏           | 61 kB 55.9 MB/s eta 0:00:01\r\u001b[K     |███████████████████████▌        | 71 kB 57.1 MB/s eta 0:00:01\r\u001b[K     |██████████████████████████▉     | 81 kB 55.8 MB/s eta 0:00:01\r\u001b[K     |██████████████████████████████▎ | 92 kB 57.6 MB/s eta 0:00:01\r\u001b[K     |████████████████████████████████| 97 kB 6.9 MB/s \n",
            "\u001b[?25hRequirement already satisfied: requests<3.0.0,>=2.23.0 in /usr/local/lib/python3.7/dist-packages (from deep-translator) (2.23.0)\n",
            "Collecting beautifulsoup4<5.0.0,>=4.9.1\n",
            "  Downloading beautifulsoup4-4.10.0-py3-none-any.whl (97 kB)\n",
            "\u001b[?25l\r\u001b[K     |███▍                            | 10 kB 34.1 MB/s eta 0:00:01\r\u001b[K     |██████▊                         | 20 kB 38.0 MB/s eta 0:00:01\r\u001b[K     |██████████                      | 30 kB 42.7 MB/s eta 0:00:01\r\u001b[K     |█████████████▌                  | 40 kB 46.2 MB/s eta 0:00:01\r\u001b[K     |████████████████▉               | 51 kB 48.4 MB/s eta 0:00:01\r\u001b[K     |████████████████████▏           | 61 kB 52.0 MB/s eta 0:00:01\r\u001b[K     |███████████████████████▌        | 71 kB 53.4 MB/s eta 0:00:01\r\u001b[K     |███████████████████████████     | 81 kB 55.5 MB/s eta 0:00:01\r\u001b[K     |██████████████████████████████▎ | 92 kB 54.5 MB/s eta 0:00:01\r\u001b[K     |████████████████████████████████| 97 kB 6.3 MB/s \n",
            "\u001b[?25hCollecting soupsieve>1.2\n",
            "  Downloading soupsieve-2.3.1-py3-none-any.whl (37 kB)\n",
            "Requirement already satisfied: importlib-metadata in /usr/local/lib/python3.7/dist-packages (from click<9.0.0,>=8.0.1->deep-translator) (4.8.2)\n",
            "Requirement already satisfied: chardet<4,>=3.0.2 in /usr/local/lib/python3.7/dist-packages (from requests<3.0.0,>=2.23.0->deep-translator) (3.0.4)\n",
            "Requirement already satisfied: certifi>=2017.4.17 in /usr/local/lib/python3.7/dist-packages (from requests<3.0.0,>=2.23.0->deep-translator) (2021.10.8)\n",
            "Requirement already satisfied: idna<3,>=2.5 in /usr/local/lib/python3.7/dist-packages (from requests<3.0.0,>=2.23.0->deep-translator) (2.10)\n",
            "Requirement already satisfied: urllib3!=1.25.0,!=1.25.1,<1.26,>=1.21.1 in /usr/local/lib/python3.7/dist-packages (from requests<3.0.0,>=2.23.0->deep-translator) (1.24.3)\n",
            "Requirement already satisfied: typing-extensions>=3.6.4 in /usr/local/lib/python3.7/dist-packages (from importlib-metadata->click<9.0.0,>=8.0.1->deep-translator) (3.10.0.2)\n",
            "Requirement already satisfied: zipp>=0.5 in /usr/local/lib/python3.7/dist-packages (from importlib-metadata->click<9.0.0,>=8.0.1->deep-translator) (3.6.0)\n",
            "Installing collected packages: soupsieve, click, beautifulsoup4, deep-translator\n",
            "  Attempting uninstall: click\n",
            "    Found existing installation: click 7.1.2\n",
            "    Uninstalling click-7.1.2:\n",
            "      Successfully uninstalled click-7.1.2\n",
            "  Attempting uninstall: beautifulsoup4\n",
            "    Found existing installation: beautifulsoup4 4.6.3\n",
            "    Uninstalling beautifulsoup4-4.6.3:\n",
            "      Successfully uninstalled beautifulsoup4-4.6.3\n",
            "\u001b[31mERROR: pip's dependency resolver does not currently take into account all the packages that are installed. This behaviour is the source of the following dependency conflicts.\n",
            "flask 1.1.4 requires click<8.0,>=5.1, but you have click 8.0.3 which is incompatible.\u001b[0m\n",
            "Successfully installed beautifulsoup4-4.10.0 click-8.0.3 deep-translator-1.5.4 soupsieve-2.3.1\n"
          ]
        }
      ]
    },
    {
      "cell_type": "code",
      "metadata": {
        "id": "14YFvCnR9O_o"
      },
      "source": [
        "import docx\n",
        "from deep_translator import GoogleTranslator"
      ],
      "execution_count": null,
      "outputs": []
    },
    {
      "cell_type": "code",
      "metadata": {
        "colab": {
          "base_uri": "https://localhost:8080/"
        },
        "id": "AnWoqqMz97hm",
        "outputId": "78233b8d-735a-4e16-ccf7-8fd10e9d9ca8"
      },
      "source": [
        "file_name = \"PEP2.docx\"\n",
        "\n",
        "#Просмотрим исходный текст\n",
        "doc = docx.Document(file_name)\n",
        "all_paras = doc.paragraphs\n",
        "SBP = 0\n",
        "for para in all_paras:\n",
        "    print(para.text)\n",
        "    SBP += len(para.text) - para.text.count(' ')\n",
        "\n",
        "print(\"____________________\")\n",
        "print(f\"Сбп = {SBP}\") #СбП - \"символов без пробелов\""
      ],
      "execution_count": null,
      "outputs": [
        {
          "output_type": "stream",
          "name": "stdout",
          "text": [
            "Comments\n",
            "“If the implementation is hard to explain, it’s a bad idea.”\n",
            "— The Zen of Python\n",
            "You should use comments to document code as it’s written. It is important to document your code so that you, and any collaborators, can understand it. When you or someone else reads a comment, they should be able to easily understand the code the comment applies to and how it fits in with the rest of your code.\n",
            "Here are some key points to remember when adding comments to your code:\n",
            "Limit the line length of comments and docstrings to 72 characters.\n",
            "Use complete sentences, starting with a capital letter.\n",
            "Make sure to update comments if you change your code.\n",
            "Block Comments\n",
            "Use block comments to document a small section of code. They are useful when you have to write several lines of code to perform a single action, such as importing data from a file or updating a database entry. They are important as they help others understand the purpose and functionality of a given code block.\n",
            "PEP 8 provides the following rules for writing block comments:\n",
            "Indent block comments to the same level as the code they describe.\n",
            "Start each line with a # followed by a single space.\n",
            "Separate paragraphs by a line containing a single #.\n",
            "Here is a block comment explaining the function of a for loop. Note that the sentence wraps to a new line to preserve the 79 character line limit:\n",
            "Sometimes, if the code is very technical, then it is necessary to use more than one paragraph in a block comment:\n",
            "If you’re ever in doubt as to what comment type is suitable, then block comments are often the way to go. Use them as much as possible throughout your code, but make sure to update them if you make changes to your code!\n",
            "Inline Comments\n",
            "Inline comments explain a single statement in a piece of code. They are useful to remind you, or explain to others, why a certain line of code is necessary. Here’s what PEP 8 has to say about them:\n",
            "Use inline comments sparingly.\n",
            "Write inline comments on the same line as the statement they refer to.\n",
            "Separate inline comments by two or more spaces from the statement.\n",
            "Start inline comments with a # and a single space, like block comments.\n",
            "Don’t use them to explain the obvious.\n",
            "Below is an example of an inline comment:\n",
            "Sometimes, inline comments can seem necessary, but you can use better naming conventions instead. Here’s an example:\n",
            "Here, the inline comment does give extra information. However using x as a variable name for a person’s name is bad practice. There’s no need for the inline comment if you rename your variable:\n",
            "Finally, inline comments such as these are bad practice as they state the obvious and clutter code:\n",
            "Inline comments are more specific than block comments, and it’s easy to add them when they’re not necessary, which leads to clutter. You could get away with only using block comments so, unless you are sure you need an inline comment, your code is more likely to be PEP 8 compliant if you stick to block comments.\n",
            "Documentation Strings\n",
            "Documentation strings, or docstrings, are strings enclosed in double (\"\"\") or single (''') quotation marks that appear on the first line of any function, class, method, or module. You can use them to explain and document a specific block of code. There is an entire PEP, PEP 257, that covers docstrings, but you’ll get a summary in this section.\n",
            "The most important rules applying to docstrings are the following:\n",
            "Surround docstrings with three double quotes on either side, as in \"\"\"This is a docstring\"\"\".\n",
            "Write them for all public modules, functions, classes, and methods.\n",
            "Put the \"\"\" that ends a multiline docstring on a line by itself:\n",
            "For one-line docstrings, keep the \"\"\" on the same line:\n",
            "For a more detailed article on documenting Python code, see Documenting Python Code: A Complete Guide by James Mertz.\n",
            "Whitespace in Expressions and Statements\n",
            "“Sparse is better than dense.”\n",
            "— The Zen of Python\n",
            "Whitespace can be very helpful in expressions and statements when used properly. If there is not enough whitespace, then code can be difficult to read, as it’s all bunched together. If there’s too much whitespace, then it can be difficult to visually combine related terms in a statement.\n",
            "Whitespace Around Binary Operators\n",
            "Surround the following binary operators with a single space on either side:\n",
            "Assignment operators (=, +=, -=, and so forth)\n",
            "Comparisons (==, !=, >, <. >=, <=) and (is, is not, in, not in)\n",
            "Booleans (and, not, or)\n",
            "Note: When = is used to assign a default value to a function argument, do not surround it with spaces.\n",
            "When there’s more than one operator in a statement, adding a single space before and after each operator can look confusing. Instead, it is better to only add whitespace around the operators with the lowest priority, especially when performing mathematical manipulation. Here are a couple examples:\n",
            "You can also apply this to if statements where there are multiple conditions:\n",
            "In the above example, the and operator has lowest priority. It may therefore be clearer to express the if statement as below:\n",
            "You are free to choose which is clearer, with the caveat that you must use the same amount of whitespace either side of the operator.\n",
            "The following is not acceptable:\n",
            "In slices, colons act as a binary operators. Therefore, the rules outlined in the previous section apply, and there should be the same amount of whitespace either side. The following examples of list slices are valid:\n",
            "In summary, you should surround most operators with whitespace. However, there are some caveats to this rule, such as in function arguments or when you’re combining multiple operators in one statement.\n",
            "When to Avoid Adding Whitespace\n",
            "In some cases, adding whitespace can make code harder to read. Too much whitespace can make code overly sparse and difficult to follow. PEP 8 outlines very clear examples where whitespace is inappropriate.\n",
            "The most important place to avoid adding whitespace is at the end of a line. This is known as trailing whitespace. It is invisible and can produce errors that are difficult to trace.\n",
            "The following list outlines some cases where you should avoid adding whitespace:\n",
            "Immediately inside parentheses, brackets, or braces:\n",
            "Before a comma, semicolon, or colon:\n",
            "Before the open parenthesis that starts the argument list of a function call:\n",
            "Before the open bracket that starts an index or slice:\n",
            "Between a trailing comma and a closing parenthesis:\n",
            "To align assignment operators:\n",
            "Make sure that there is no trailing whitespace anywhere in your code. There are other cases where PEP 8 discourages adding extra whitespace, such as immediately inside brackets, as well as before commas and colons. You should also never add extra whitespace in order to align operators.\n",
            "Programming Recommendations\n",
            "“Simple is better than complex.”\n",
            "— The Zen of Python\n",
            "You will often find that there are several ways to perform a similar action in Python (and any other programming language for that matter). In this section, you’ll see some of the suggestions PEP 8 provides to remove that ambiguity and preserve consistency.\n",
            "Don’t compare Boolean values to True or False using the equivalence operator. You’ll often need to check if a Boolean value is True or False. When doing so, it is intuitive to do this with a statement like the one below:\n",
            "The use of the equivalence operator, ==, is unnecessary here. bool can only take values True or False. It is enough to write the following:\n",
            "This way of performing an if statement with a Boolean requires less code and is simpler, so PEP 8 encourages it.\n",
            "Use the fact that empty sequences are falsy in if statements. If you want to check whether a list is empty, you might be tempted to check the length of the list. If the list is empty, it’s length is 0 which is equivalent to False when used in an if statement. Here’s an example:\n",
            "However, in Python any empty list, string, or tuple is falsy. We can therefore come up with a simpler alternative to the above:\n",
            "While both examples will print out List is empty!, the second option is simpler, so PEP 8 encourages it.\n",
            "Use is not rather than not ... is in if statements. If you are trying to check whether a variable has a defined value, there are two options. The first is to evaluate an if statement with x is not None, as in the example below:\n",
            "A second option would be to evaluate x is None and then have an if statement based on not the outcome:\n",
            "While both options will be evaluated correctly, the first is simpler, so PEP 8 encourages it.\n",
            "Don’t use if x: when you mean if x is not None:. Sometimes, you may have a function with arguments that are None by default. A common mistake when checking if such an argument, arg, has been given a different value is to use the following:\n",
            "This code checks that arg is truthy. Instead, you want to check that arg is not None, so it would be better to use the following:\n",
            "The mistake being made here is assuming that not None and truthy are equivalent. You could have set arg = []. As we saw above, empty lists are evaluated as falsy in Python. So, even though the argument arg has been assigned, the condition is not met, and so the code in the body of the if statement will not be executed.\n",
            "Use .startswith() and .endswith() instead of slicing. If you were trying to check if a string word was prefixed, or suffixed, with the word cat, it might seem sensible to use list slicing. However, list slicing is prone to error, and you have to hardcode the number of characters in the prefix or suffix. It is also not clear to someone less familiar with Python list slicing what you are trying to achieve:\n",
            "However, this is not as readable as using .startswith():\n",
            "Similarly, the same principle applies when you’re checking for suffixes. The example below outlines how you might check whether a string ends in jpg:\n",
            "While the outcome is correct, the notation is a bit clunky and hard to read. Instead, you could use .endswith() as in the example below:\n",
            "As with most of these programming recommendations, the goal is readability and simplicity. In Python, there are many different ways to perform the same action, so guidelines on which methods to chose are helpful.\n",
            "____________________\n",
            "Сбп = 8462\n"
          ]
        }
      ]
    },
    {
      "cell_type": "code",
      "metadata": {
        "id": "3NLe3yD0JQSl"
      },
      "source": [
        "to_translate = 'I want to translate this text'\n",
        "translated = GoogleTranslator(source='auto', target='ru').translate(to_translate)"
      ],
      "execution_count": null,
      "outputs": []
    },
    {
      "cell_type": "code",
      "metadata": {
        "colab": {
          "base_uri": "https://localhost:8080/"
        },
        "id": "EloAI7Y5JWyW",
        "outputId": "467ea1eb-e114-4e90-ea9a-932e78e24551"
      },
      "source": [
        "print(translated)"
      ],
      "execution_count": null,
      "outputs": [
        {
          "output_type": "stream",
          "name": "stdout",
          "text": [
            "Я хочу перевести этот текст\n"
          ]
        }
      ]
    },
    {
      "cell_type": "code",
      "metadata": {
        "id": "m9SWrFWN_9WU"
      },
      "source": [
        "new_doc = docx.Document()\n",
        "\n",
        "translated = GoogleTranslator(source='auto', target='ru').translate(doc.paragraphs[0].text)\n",
        "print(translated)\n",
        "new_doc.add_heading(translated, 1)\n",
        "all_paras = all_paras[1:]\n",
        "\n",
        "for para in all_paras:\n",
        "  translated = GoogleTranslator(source='auto', target='ru').translate(para.text)\n",
        "  #Для удобного ручного редактирования запишем в файл обе версии текста:\n",
        "  #Английский абзац\n",
        "  new_doc.add_paragraph(para.text, style = new_doc.styles['Body Text'])\n",
        "  #И его соответствующий перевод\n",
        "  new_doc.add_paragraph(translated, style = new_doc.styles['Normal'])\n",
        "\n",
        "new_doc.save(file_name)"
      ],
      "execution_count": null,
      "outputs": []
    }
  ]
}