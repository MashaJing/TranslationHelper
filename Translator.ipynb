{
  "nbformat": 4,
  "nbformat_minor": 0,
  "metadata": {
    "colab": {
      "name": "Translator.ipynb",
      "provenance": [],
      "collapsed_sections": [],
      "authorship_tag": "ABX9TyNCxXTKPLV7bhLVWTSqJ3kn",
      "include_colab_link": true
    },
    "kernelspec": {
      "name": "python3",
      "display_name": "Python 3"
    },
    "language_info": {
      "name": "python"
    }
  },
  "cells": [
    {
      "cell_type": "markdown",
      "metadata": {
        "id": "view-in-github",
        "colab_type": "text"
      },
      "source": [
        "<a href=\"https://colab.research.google.com/github/MashaJing/TranslationHelper/blob/main/Translator.ipynb\" target=\"_parent\"><img src=\"https://colab.research.google.com/assets/colab-badge.svg\" alt=\"Open In Colab\"/></a>"
      ]
    },
    {
      "cell_type": "code",
      "metadata": {
        "colab": {
          "base_uri": "https://localhost:8080/"
        },
        "id": "astHduJm9hPy",
        "outputId": "ddd38740-f56e-4c83-abc8-0af4fc6e16ac"
      },
      "source": [
        "!pip install python-docx"
      ],
      "execution_count": 1,
      "outputs": [
        {
          "output_type": "stream",
          "name": "stdout",
          "text": [
            "Collecting python-docx\n",
            "  Downloading python-docx-0.8.11.tar.gz (5.6 MB)\n",
            "\u001b[K     |████████████████████████████████| 5.6 MB 5.3 MB/s \n",
            "\u001b[?25hRequirement already satisfied: lxml>=2.3.2 in /usr/local/lib/python3.7/dist-packages (from python-docx) (4.2.6)\n",
            "Building wheels for collected packages: python-docx\n",
            "  Building wheel for python-docx (setup.py) ... \u001b[?25l\u001b[?25hdone\n",
            "  Created wheel for python-docx: filename=python_docx-0.8.11-py3-none-any.whl size=184508 sha256=df408ba4f1739a1afcb99b8ae67a552c25c766efc69b6ea340a1987f696cb4d9\n",
            "  Stored in directory: /root/.cache/pip/wheels/f6/6f/b9/d798122a8b55b74ad30b5f52b01482169b445fbb84a11797a6\n",
            "Successfully built python-docx\n",
            "Installing collected packages: python-docx\n",
            "Successfully installed python-docx-0.8.11\n"
          ]
        }
      ]
    },
    {
      "cell_type": "code",
      "metadata": {
        "colab": {
          "base_uri": "https://localhost:8080/"
        },
        "id": "INw58dn9JBHk",
        "outputId": "09dcb22c-8f3a-4be7-901f-ac5c8a976e66"
      },
      "source": [
        "!pip install deep-translator"
      ],
      "execution_count": 2,
      "outputs": [
        {
          "output_type": "stream",
          "name": "stdout",
          "text": [
            "Collecting deep-translator\n",
            "  Downloading deep_translator-1.5.5-py3-none-any.whl (30 kB)\n",
            "Collecting click<9.0.0,>=8.0.1\n",
            "  Downloading click-8.0.3-py3-none-any.whl (97 kB)\n",
            "\u001b[K     |████████████████████████████████| 97 kB 3.3 MB/s \n",
            "\u001b[?25hRequirement already satisfied: requests<3.0.0,>=2.23.0 in /usr/local/lib/python3.7/dist-packages (from deep-translator) (2.23.0)\n",
            "Collecting beautifulsoup4<5.0.0,>=4.9.1\n",
            "  Downloading beautifulsoup4-4.10.0-py3-none-any.whl (97 kB)\n",
            "\u001b[K     |████████████████████████████████| 97 kB 5.7 MB/s \n",
            "\u001b[?25hCollecting soupsieve>1.2\n",
            "  Downloading soupsieve-2.3.1-py3-none-any.whl (37 kB)\n",
            "Requirement already satisfied: importlib-metadata in /usr/local/lib/python3.7/dist-packages (from click<9.0.0,>=8.0.1->deep-translator) (4.8.2)\n",
            "Requirement already satisfied: certifi>=2017.4.17 in /usr/local/lib/python3.7/dist-packages (from requests<3.0.0,>=2.23.0->deep-translator) (2021.10.8)\n",
            "Requirement already satisfied: urllib3!=1.25.0,!=1.25.1,<1.26,>=1.21.1 in /usr/local/lib/python3.7/dist-packages (from requests<3.0.0,>=2.23.0->deep-translator) (1.24.3)\n",
            "Requirement already satisfied: idna<3,>=2.5 in /usr/local/lib/python3.7/dist-packages (from requests<3.0.0,>=2.23.0->deep-translator) (2.10)\n",
            "Requirement already satisfied: chardet<4,>=3.0.2 in /usr/local/lib/python3.7/dist-packages (from requests<3.0.0,>=2.23.0->deep-translator) (3.0.4)\n",
            "Requirement already satisfied: zipp>=0.5 in /usr/local/lib/python3.7/dist-packages (from importlib-metadata->click<9.0.0,>=8.0.1->deep-translator) (3.6.0)\n",
            "Requirement already satisfied: typing-extensions>=3.6.4 in /usr/local/lib/python3.7/dist-packages (from importlib-metadata->click<9.0.0,>=8.0.1->deep-translator) (3.10.0.2)\n",
            "Installing collected packages: soupsieve, click, beautifulsoup4, deep-translator\n",
            "  Attempting uninstall: click\n",
            "    Found existing installation: click 7.1.2\n",
            "    Uninstalling click-7.1.2:\n",
            "      Successfully uninstalled click-7.1.2\n",
            "  Attempting uninstall: beautifulsoup4\n",
            "    Found existing installation: beautifulsoup4 4.6.3\n",
            "    Uninstalling beautifulsoup4-4.6.3:\n",
            "      Successfully uninstalled beautifulsoup4-4.6.3\n",
            "\u001b[31mERROR: pip's dependency resolver does not currently take into account all the packages that are installed. This behaviour is the source of the following dependency conflicts.\n",
            "flask 1.1.4 requires click<8.0,>=5.1, but you have click 8.0.3 which is incompatible.\u001b[0m\n",
            "Successfully installed beautifulsoup4-4.10.0 click-8.0.3 deep-translator-1.5.5 soupsieve-2.3.1\n"
          ]
        }
      ]
    },
    {
      "cell_type": "code",
      "metadata": {
        "id": "14YFvCnR9O_o"
      },
      "source": [
        "import docx\n",
        "from deep_translator import GoogleTranslator"
      ],
      "execution_count": 16,
      "outputs": []
    },
    {
      "cell_type": "code",
      "metadata": {
        "colab": {
          "base_uri": "https://localhost:8080/"
        },
        "id": "AnWoqqMz97hm",
        "outputId": "8dd83473-d280-434e-d27a-9d071fa816d7"
      },
      "source": [
        "#Просмотрим исходный текст\n",
        "file_name = \"VS_Code_Ext.docx\"\n",
        "doc = docx.Document(file_name)\n",
        "\n",
        "all_paras = doc.paragraphs\n",
        "SBP = 0\n",
        "\n",
        "for para in all_paras:\n",
        "    print(para.text)\n",
        "    SBP += len(para.text) - para.text.count(' ')\n",
        "\n",
        "\n",
        "print(\"____________________\")\n",
        "print(f\"Сбп = {SBP}\") #СбП - \"символов без пробелов\""
      ],
      "execution_count": 18,
      "outputs": [
        {
          "output_type": "stream",
          "name": "stdout",
          "text": [
            "VS Code: You don't need that extension part 2\n",
            "This follows on from the post  that I wrote last year.\n",
            "There are builtin features and settings that ably do the work of many popular extensions. Perhaps, you do not need that extension!\n",
            "Our remedies oft in ourselves do lie\n",
            "- William Shakespeare\n",
            "1. Wrap selected HTML in a tag\n",
            "Sometimes, you want to wrap a block of HTML with another element when you are refactoring your HTML. This is awkward to do manually.\n",
            "For example, in the code below, to wrap the 3 div elements in a main element, we would need to go to line 10 and type out an opening main tag. If we have auto closing tags setting turned on, we may have to delete this closing tag. Then, we need to go to line 26 and type out the closing main tag.\n",
            "It would be nice to just select the block and run a command to wrap it with the main tags.\n",
            "Extensions\n",
            " (277K installs): \"Wraps selected code with HTML tags\"\n",
            " (165K installs): \"wrap selected html tag by press ctrl+i, you can change the wrapper tag name simply too.\"\n",
            "Feature\n",
            "Emmet can do this for you. Select the code you want and run the command Emmet: wrap with abbreviation. You will be prompted for an abbreviation, you can just type the name of the tag you want. We just type \"main\" and hit enter.\n",
            "If you wanted to wrap it with more than one tag and include a class, you can provide an Emmet abbreviation such as main>div.container, which will give you HTML like this:\n",
            "2. Bracket pair coloring\n",
            "Styling of matching brackets pairs can help with identification of scope in your code. In particular, it is very popular for people to color brackets depending on their nesting level.\n",
            "Quite a few extensions have filled this role in some way or another.\n",
            "Extensions\n",
            " (6.2M installs): \"A customizable extension for colorizing matching brackets.\" The same author wrote Bracket Pair Colorizer 2 as a replacement with breaking changes and more emphasis on performance.\n",
            " (3.2M installs): \"A customizable extension for colorizing matching brackets.\" It is now unmaintained.\n",
            " (1M installs): \"Provide rainbow colors for the round brackets, the square brackets and the squiggly brackets. \"\n",
            " (945K installs): \"Highlights matching closing and opening tags\".\n",
            " (88K installs): \"Underlined matching brackets and more\".\n",
            "Feature\n",
            "VS Code introduced native bracket pair coloring in v1.6.0 (August 2021). It is much faster than any of the extensions listed. You can read the  blog for a deep dive.\n",
            "Bracket pair coloring can be enabled by setting editor.bracketPairColorization.enabled to true.\n",
            "The bracket colors can be declared in a theme, or can be set through the setting workbench.colorCustomizations.\n",
            "To set the colors for an installed theme through the workbench.colorCustomizations setting, you specify the name of the theme in square brackets, and then assign values to the properties as below. The property editorBracketHighlight.foreground1 refers to the first set of brackets, editorBracketHighlight.foreground2 to the second set of brackets, and so on. Also, there is the editorBracketHighlight.unexpectedBracket.foreground property for any extra brackets that are unmatched.\n",
            "Bracket pair coloring settings summary\n",
            "Some of the aforementioned extensions enable you to apply more styles to the brackets, such as underlining and borders, currently this is not possible with this feature. However, there is a possibility for this to be added in the future because  similar to how syntax highlighting works. Time will tell if this is something that will be added.\n",
            "3. Indentation guides colorization\n",
            "Indentation guides are vertical lines that outline the blocks of your code. They can help guide your eye to see how your code structured. VS Code refers to them as \"brackt pair guides\".\n",
            "Extensions\n",
            " (2.4M installs): \"This extension colorizes the indentation in front of your text alternating four different colors on each step.\" Indentation colorization is based on tab size.\n",
            "Feature\n",
            "Since v1.61 (September 2021), the editor supports colors for indentation guides. VS Code refers to them as \"bracket pair guides\". They use the same colors as the bracket pair coloring feature discussed above by default.\n",
            "Bracket pair guides can be enabled by setting editor.guides.bracketPairs to true, it is set to to false by default. There is a third option active to only show the indent guide for the active block. This setting should be used instead of the deprecated editor.renderIndentGuides setting.\n",
            "As you can see from the example below, the guides are quite muted by default. It looks like the colors are destaurated.\n",
            "You can enable highlighting of the indent guide for the current scope by setting editor.guides.highlightActiveIndentation to true. This should be used instead of the deprecated editor.highlightActiveIndentGuide setting.\n",
            "As you can see from the example below, the active indent guide is shown in a brighter (more saturated) color.\n",
            "There is also a setting editor.guides.bracketPairsHorizontal that controls if and when to render horizontal lines when a line of code crosses into another indentation level. It defaults to active.\n",
            "Similar to bracket pairs, the colors can be declared in a theme, or can be set through the setting workbench.colorCustomizations. You can change the color of the lines at each indent level through the properties editorBracketPairGuide.background{1,...,6} and editorBracketPairGuide.activeBackground{1,...,6} .\n",
            "Indent guides settings summary\n",
            "The relevent settings are:\n",
            "4. Running and automating scripts (NPM, Gulp, Make, and others)\n",
            "Most projects requires some tasks to be run like linting, testing, building, packaging, and deploying. Depending on the type of project it is, you may use different tools to handle this such as NPM, Grunt, Gulp, Make, and so on. While this is often something you do on the command-line, it can be handy to run some of these actions in the editor without switching context.\n",
            "Extensions\n",
            " (2.7M installs): \"This extension supports running npm scripts defined in the package.json file and validating the installed modules against the dependencies defined in the package.json.\"\n",
            " (39K installs): \"A gulp task visualization and execution extension for Visual Studio Code.\"\n",
            " (31K installs): \"Run Make easily.\"\n",
            "Feature\n",
            "VS Code has a Tasks feature. Tasks can be configured to run scripts you want inside VS Code through the command palette, you can customise how they are run, you can add a keybinding to them, you can run multiple scripts in a sequence, and you can run them automatically when you open a workspace.\n",
            "VS Code can autodetect scripts for Gulp, Grunt, Jake, and npm. You can also run shell scripts, however they are not autodetected.\n",
            "I will show you briefly how you can run NPM scripts as tasks. VS Code picks them up from your package.json.\n",
            "Default build task\n",
            "Pressing Ctrl+Shift+B or running the command Run Build Task will show you a picker of the autodetected tasks. For NPM, it narrows the list down for you:\n",
            "Usually, the first option is the correct option.\n",
            "Running a task\n",
            "You can run a task through the Tasks: Run Task command. It will show you a list of the autodetected tasks from your workspace, and any custom tasks you created.\n",
            "If you want to be run a task for a particular tool, you can use Quick Open, by pressing Ctrl + P or through the menu File > Go to File, you type \"task\" and hit space, and then the dropdown will show you the options for the different tools.\n",
            "For my JavaScript project I pick \"npm\" and I get a list of my npm scripts.\n",
            "Pick one and it will run the script.\n",
            "Automate tasks\n",
            "You can define custom tasks for your project in <project folder>/.vscode/tasks.json. You can create the file yourself, or you can run the Tasks: Configure Task command to build a template file for you by picking the option Create task.json file from template.\n",
            "You can configure a task to run when you open a project through the runOptions property. I discuss this in another article - . I often use this in projects to fire up a dev server whenever I open a project. This is what the tasks.json look like for that:\n",
            "Adding a shortcut for a task\n",
            "If you run a task frequently, you can define a keyboard shortcut for the task.\n",
            "For example, to bind Ctrl+R to the my dev server task, I could add the following to the keybindings.json file:\n",
            "The args property should match the value of the label property from the tasks.json.\n",
            "\n",
            "You can read the  to learn more about tasks.\n",
            "5. Formatting code\n",
            "Consistent code formatting makes code easier to read, and saves your brain parsing cycles.\n",
            "If you use many different languages, you will need some type of extension for formatting, but along the way you still may be using an extension that you actually don't need. It is not as cut and dry as the other items I have discussed, it is dependent on the particular languages you use. Let's get into it more specifically.\n",
            "Extensions\n",
            " (15M installs): Prettier is a very opinionated formatter with very few configuration options. It supports some languages by default: JavaScript, JSX, Angular, Vue, Flow, TypeScript, CSS, Less, SCSS, HTML, JSON, GraphQL, Markdown, and YAML. It has a plugin architecture to extend it to more languages.\n",
            " (7.3M installs): Beautify uses js-beautify, which is a less opinionated formatter. It supports Javascript, JSON, CSS, Sass, and HTML. You can use a .jsbeautifyrc file to control the style settings.\n",
            " (300k installs)\n",
            " (30K installs)\n",
            "Many, many more .\n",
            "Feature\n",
            "VS Code has builtin formatters for HTML, JavaScript, TypeScript, and JSON. This is a decent basis for frontend developers and JavaScript-oriented backend developers.\n",
            "You may be wondering why CSS and CSS-like syntaxes are not on this list, I don't know why. What i do know is that . Like other languages that are not in this list, you will need an extension to provide formatting for that language. While it is tempting, particularly as a frontend developer, just to install Prettier because it covers a number of languages out of the box, there are tradeoffs with this. I will discuss this in the \"Other languages\" section below.\n",
            "Settings for languages with builtin formatters\n",
            "To use the builtin formatters, you can add the following settings:\n",
            "I tried these out for a while and was pleasantly surprised. VS Code uses js-beautify under the hood, which is also used by the  extension. So, you can expect similar results to that extension. Your mileage may vary for the formating of JSONC, it is asking the JSON Language Features extension to deal with \"illegal\" comments, but it appears to manage it without issues. I don't use React, so I can't comment how well React is formatted.\n",
            "You cannot include a .jsbeautifyrc file in a project to control the formatting. However, there are equivalent formatting settings available. You will find formatting settings for each language with the naming convention of \"<language-name>.format.<property-name>\". Here are a few examples:\n",
            "There is an .\n",
            "Other languages\n",
            "The tricky thing with formatters is that they involve considerable work to maintain, it is mosty left to independent devs to create the extensions to fill the gaps. Realistically, people are not able to maintain these as side projects, so the quality varies depending on how popular a language is. This is a weak spot for VS Code.\n",
            "For other languages, you have a few different options:\n",
            "Many language support extensions are also formatters e.g. , , , , , Vetur for Vue, and  (uses Prettier under the hood). You can use one of these as your formatter.\n",
            "You can install the  extension or the  extension to cover a few extra languages such as CSS. This is easy to do. However, these extensions are always loaded, regardless of the languages used in a project, because they use the onStartupFinished  in their configuration. This is wasteful of system resources, especially if you are working on backend projects that do not use to any of their default languages that these extensions format. Of course, you can disable the extension for a workspace to ensure that they do not load. If you have a decent computer, this may not bother you.\n",
            "If you want to use the  extension for a language that is not supported out of the box such as Java, you need to install a Prettier plugin (a node package) as a development dependency for that project. It is awkward to have node packages in a non-JavaScript backend project. If you share a project with others, having 2 or more sets of dev dependencies is a headache.\n",
            "You can install a formatter that targets a particular language. You can search in the marketplace for a particular language in the \"Formatter\" category: . These are not that common.\n",
            "If you are a frontend developer, the big omission from the list of builtin formatters is for CSS and CSS-like syntaxes. The options for this are:\n",
            "You can use the stylelint extension to cover you for both linting and formatting. Stylelint covers all CSS-like syntaxes. You can point to a global stylelint config in the VS Code settings.\n",
            "If you use SASS (.sass files), you probably have installed the  for language support. This is also a formatter.\n",
            "If you use one of the UI frameworks, you probably have installed an extension for language support, which are also formatters e.g. Vetur for Vue, and  for Svelte.\n",
            "There does not seem to be a worthwhile dedicated CSS formatter, there is the  but it has a backlog of serious issues.\n",
            "If the above does not satisfy you, then maybe installing  or  is the best option.\n",
            "For backend languages, you will find that most language support extensions are also formatters. You need to try them out to see if they are satisfactory. Of course, you could choose to use a linter to cover the formatting duties for you for these languages too.\n",
            "Conclusion\n",
            "Before you reach for an extension, see if VS Code can do it already. It sounds like an obvious move, but we are all probably guilty of doing it at one time or another. VS Code is adding features regularly, so it is worth checking the changelog every so often.\n",
            "\n",
            "____________________\n",
            "Сбп = 11690\n"
          ]
        }
      ]
    },
    {
      "cell_type": "code",
      "metadata": {
        "id": "m9SWrFWN_9WU",
        "colab": {
          "base_uri": "https://localhost:8080/"
        },
        "outputId": "543e9f9d-97aa-41b5-c184-fc42395aa7b4"
      },
      "source": [
        "new_doc = docx.Document()\n",
        "\n",
        "translated = GoogleTranslator(source='auto', target='ru').translate(doc.paragraphs[0].text)\n",
        "new_doc.add_heading(translated, 1)\n",
        "all_paras = all_paras[1:]\n",
        "\n",
        "for para in all_paras:\n",
        "  if len(para.text)>0:\n",
        "    translated = GoogleTranslator(source='auto', target='ru').translate(para.text)\n",
        "    #Для удобного ручного редактирования запишем в файл обе версии текста:\n",
        "    #Английский абзац\n",
        "    st = para.style.name\n",
        "    if st == 'Normal (Web)':\n",
        "      st = 'Normal'\n",
        "    new_doc.add_paragraph(para.text, style = st)\n",
        "    #И его соответствующий перевод\n",
        "    new_doc.add_paragraph(translated, style = st)\n",
        "\n",
        "new_doc.save(file_name)"
      ],
      "execution_count": 20,
      "outputs": [
        {
          "output_type": "stream",
          "name": "stdout",
          "text": [
            "Код VS: вам не нужно это расширение, часть 2\n"
          ]
        }
      ]
    }
  ]
}