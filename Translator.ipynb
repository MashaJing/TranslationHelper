{
  "nbformat": 4,
  "nbformat_minor": 0,
  "metadata": {
    "colab": {
      "name": "Translator.ipynb",
      "provenance": [],
      "collapsed_sections": [],
      "authorship_tag": "ABX9TyO9NLKSBPdW+vcpT4I7NE8k",
      "include_colab_link": true
    },
    "kernelspec": {
      "name": "python3",
      "display_name": "Python 3"
    },
    "language_info": {
      "name": "python"
    }
  },
  "cells": [
    {
      "cell_type": "markdown",
      "metadata": {
        "id": "view-in-github",
        "colab_type": "text"
      },
      "source": [
        "<a href=\"https://colab.research.google.com/github/MashaJing/TranslationHelper/blob/main/Translator.ipynb\" target=\"_parent\"><img src=\"https://colab.research.google.com/assets/colab-badge.svg\" alt=\"Open In Colab\"/></a>"
      ]
    },
    {
      "cell_type": "code",
      "metadata": {
        "colab": {
          "base_uri": "https://localhost:8080/"
        },
        "id": "astHduJm9hPy",
        "outputId": "c7e9f9de-a976-4a8b-82d2-c05718dd4035"
      },
      "source": [
        "!pip install python-docx"
      ],
      "execution_count": 1,
      "outputs": [
        {
          "output_type": "stream",
          "name": "stdout",
          "text": [
            "Collecting python-docx\n",
            "  Downloading python-docx-0.8.11.tar.gz (5.6 MB)\n",
            "\u001b[K     |████████████████████████████████| 5.6 MB 4.3 MB/s \n",
            "\u001b[?25hRequirement already satisfied: lxml>=2.3.2 in /usr/local/lib/python3.7/dist-packages (from python-docx) (4.2.6)\n",
            "Building wheels for collected packages: python-docx\n",
            "  Building wheel for python-docx (setup.py) ... \u001b[?25l\u001b[?25hdone\n",
            "  Created wheel for python-docx: filename=python_docx-0.8.11-py3-none-any.whl size=184508 sha256=9a93ad63d874b85848d1197d150aa1f0f0c1cb7557eb2e6e177b325730006f7d\n",
            "  Stored in directory: /root/.cache/pip/wheels/f6/6f/b9/d798122a8b55b74ad30b5f52b01482169b445fbb84a11797a6\n",
            "Successfully built python-docx\n",
            "Installing collected packages: python-docx\n",
            "Successfully installed python-docx-0.8.11\n"
          ]
        }
      ]
    },
    {
      "cell_type": "code",
      "metadata": {
        "colab": {
          "base_uri": "https://localhost:8080/"
        },
        "id": "INw58dn9JBHk",
        "outputId": "1b5fab5a-131c-4098-eccc-4c095cc60071"
      },
      "source": [
        "!pip install deep-translator"
      ],
      "execution_count": 2,
      "outputs": [
        {
          "output_type": "stream",
          "name": "stdout",
          "text": [
            "Collecting deep-translator\n",
            "  Downloading deep_translator-1.5.5-py3-none-any.whl (30 kB)\n",
            "Collecting beautifulsoup4<5.0.0,>=4.9.1\n",
            "  Downloading beautifulsoup4-4.10.0-py3-none-any.whl (97 kB)\n",
            "\u001b[K     |████████████████████████████████| 97 kB 3.3 MB/s \n",
            "\u001b[?25hRequirement already satisfied: requests<3.0.0,>=2.23.0 in /usr/local/lib/python3.7/dist-packages (from deep-translator) (2.23.0)\n",
            "Collecting click<9.0.0,>=8.0.1\n",
            "  Downloading click-8.0.3-py3-none-any.whl (97 kB)\n",
            "\u001b[K     |████████████████████████████████| 97 kB 5.2 MB/s \n",
            "\u001b[?25hCollecting soupsieve>1.2\n",
            "  Downloading soupsieve-2.3.1-py3-none-any.whl (37 kB)\n",
            "Requirement already satisfied: importlib-metadata in /usr/local/lib/python3.7/dist-packages (from click<9.0.0,>=8.0.1->deep-translator) (4.8.2)\n",
            "Requirement already satisfied: certifi>=2017.4.17 in /usr/local/lib/python3.7/dist-packages (from requests<3.0.0,>=2.23.0->deep-translator) (2021.10.8)\n",
            "Requirement already satisfied: chardet<4,>=3.0.2 in /usr/local/lib/python3.7/dist-packages (from requests<3.0.0,>=2.23.0->deep-translator) (3.0.4)\n",
            "Requirement already satisfied: urllib3!=1.25.0,!=1.25.1,<1.26,>=1.21.1 in /usr/local/lib/python3.7/dist-packages (from requests<3.0.0,>=2.23.0->deep-translator) (1.24.3)\n",
            "Requirement already satisfied: idna<3,>=2.5 in /usr/local/lib/python3.7/dist-packages (from requests<3.0.0,>=2.23.0->deep-translator) (2.10)\n",
            "Requirement already satisfied: zipp>=0.5 in /usr/local/lib/python3.7/dist-packages (from importlib-metadata->click<9.0.0,>=8.0.1->deep-translator) (3.6.0)\n",
            "Requirement already satisfied: typing-extensions>=3.6.4 in /usr/local/lib/python3.7/dist-packages (from importlib-metadata->click<9.0.0,>=8.0.1->deep-translator) (3.10.0.2)\n",
            "Installing collected packages: soupsieve, click, beautifulsoup4, deep-translator\n",
            "  Attempting uninstall: click\n",
            "    Found existing installation: click 7.1.2\n",
            "    Uninstalling click-7.1.2:\n",
            "      Successfully uninstalled click-7.1.2\n",
            "  Attempting uninstall: beautifulsoup4\n",
            "    Found existing installation: beautifulsoup4 4.6.3\n",
            "    Uninstalling beautifulsoup4-4.6.3:\n",
            "      Successfully uninstalled beautifulsoup4-4.6.3\n",
            "\u001b[31mERROR: pip's dependency resolver does not currently take into account all the packages that are installed. This behaviour is the source of the following dependency conflicts.\n",
            "flask 1.1.4 requires click<8.0,>=5.1, but you have click 8.0.3 which is incompatible.\u001b[0m\n",
            "Successfully installed beautifulsoup4-4.10.0 click-8.0.3 deep-translator-1.5.5 soupsieve-2.3.1\n"
          ]
        }
      ]
    },
    {
      "cell_type": "code",
      "metadata": {
        "id": "14YFvCnR9O_o"
      },
      "source": [
        "import docx\n",
        "from deep_translator import GoogleTranslator"
      ],
      "execution_count": 3,
      "outputs": []
    },
    {
      "cell_type": "code",
      "metadata": {
        "colab": {
          "base_uri": "https://localhost:8080/"
        },
        "id": "AnWoqqMz97hm",
        "outputId": "14fc84f5-375b-4365-f6fd-759a5a5befab"
      },
      "source": [
        "file_name = \"Mail_to.docx\"\n",
        "\n",
        "#Просмотрим исходный текст\n",
        "doc = docx.Document(file_name)\n",
        "all_paras = doc.paragraphs\n",
        "SBP = 0\n",
        "for para in all_paras:\n",
        "    print(len(para.text))\n",
        "    SBP += len(para.text) - para.text.count(' ')\n",
        "\n",
        "\n",
        "print(\"____________________\")\n",
        "print(f\"Сбп = {SBP}\") #СбП - \"символов без пробелов\""
      ],
      "execution_count": 9,
      "outputs": [
        {
          "output_type": "stream",
          "name": "stdout",
          "text": [
            "59\n",
            "149\n",
            "96\n",
            "24\n",
            "45\n",
            "94\n",
            "125\n",
            "0\n",
            "83\n",
            "54\n",
            "74\n",
            "70\n",
            "119\n",
            "44\n",
            "86\n",
            "154\n",
            "40\n",
            "120\n",
            "156\n",
            "48\n",
            "135\n",
            "47\n",
            "42\n",
            "223\n",
            "32\n",
            "222\n",
            "____________________\n",
            "Сбп = 1928\n"
          ]
        }
      ]
    },
    {
      "cell_type": "code",
      "metadata": {
        "id": "3NLe3yD0JQSl"
      },
      "source": [
        "to_translate = 'I want to translate this text'\n",
        "translated = GoogleTranslator(source='auto', target='ru').translate(to_translate)"
      ],
      "execution_count": 6,
      "outputs": []
    },
    {
      "cell_type": "code",
      "metadata": {
        "colab": {
          "base_uri": "https://localhost:8080/"
        },
        "id": "EloAI7Y5JWyW",
        "outputId": "0df4f120-53bf-4678-fa5a-c476231024bd"
      },
      "source": [
        "print(translated)"
      ],
      "execution_count": 7,
      "outputs": [
        {
          "output_type": "stream",
          "name": "stdout",
          "text": [
            "Я хочу перевести этот текст\n"
          ]
        }
      ]
    },
    {
      "cell_type": "code",
      "metadata": {
        "id": "m9SWrFWN_9WU",
        "colab": {
          "base_uri": "https://localhost:8080/"
        },
        "outputId": "8fd7b832-916a-47e4-e10e-faa9452e0952"
      },
      "source": [
        "new_doc = docx.Document()\n",
        "\n",
        "translated = GoogleTranslator(source='auto', target='ru').translate(doc.paragraphs[0].text)\n",
        "print(translated)\n",
        "new_doc.add_heading(translated, 1)\n",
        "all_paras = all_paras[1:]\n",
        "\n",
        "for para in all_paras:\n",
        "  if len(para.text)>0:\n",
        "    translated = GoogleTranslator(source='auto', target='ru').translate(para.text)\n",
        "    #Для удобного ручного редактирования запишем в файл обе версии текста:\n",
        "    #Английский абзац\n",
        "    new_doc.add_paragraph(para.text, style = new_doc.styles['Body Text'])\n",
        "    #И его соответствующий перевод\n",
        "    new_doc.add_paragraph(translated, style = new_doc.styles['Normal'])\n",
        "\n",
        "new_doc.save(file_name)"
      ],
      "execution_count": 10,
      "outputs": [
        {
          "output_type": "stream",
          "name": "stdout",
          "text": [
            "Ссылка Mailto - Как создать ссылку электронной почты в формате HTML [Пример кода]\n"
          ]
        }
      ]
    }
  ]
}